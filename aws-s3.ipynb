{
 "cells": [
  {
   "cell_type": "code",
   "execution_count": 2,
   "metadata": {},
   "outputs": [
    {
     "name": "stdout",
     "output_type": "stream",
     "text": [
      "aws-glue-assets-690043439795-us-east-1\n",
      "cdk-hnb659fds-assets-690043439795-us-east-1\n",
      "cdkhellostack-johndauphinedeleteme8462b815-1i7kez3ilbvgu\n",
      "cdkhellostack-johndauphinedeleteme8462b815-jcvpoczp9tyj\n",
      "cf-templates-782tqfqhdgwj-us-east-1\n",
      "cloud9-690043439795-sam-deployments-us-east-1\n",
      "elasticbeanstalk-us-east-1-690043439795\n",
      "johndauphine\n",
      "johndauphine-glue\n",
      "johndauphine.com\n",
      "zappa-paxvnq4or\n"
     ]
    }
   ],
   "source": [
    "import boto3\n",
    "\n",
    "s3_client = boto3.client('s3')\n",
    "s3_buckets=s3_client.list_buckets()\n",
    "for bucket in s3_buckets['Buckets']:\n",
    "    print(bucket['Name'])"
   ]
  },
  {
   "cell_type": "code",
   "execution_count": 3,
   "metadata": {},
   "outputs": [
    {
     "data": {
      "text/plain": [
       "{'ResponseMetadata': {'RequestId': 'HNQXEZ0FRVZRQ1RF',\n",
       "  'HostId': 'J3Hjfl8qYKkD5ow5yZ4X7M8yi36/LMt7UVvAcnQx3rhwhZg0n6yri74OZdidvu9GwXktmtl8bxw=',\n",
       "  'HTTPStatusCode': 200,\n",
       "  'HTTPHeaders': {'x-amz-id-2': 'J3Hjfl8qYKkD5ow5yZ4X7M8yi36/LMt7UVvAcnQx3rhwhZg0n6yri74OZdidvu9GwXktmtl8bxw=',\n",
       "   'x-amz-request-id': 'HNQXEZ0FRVZRQ1RF',\n",
       "   'date': 'Mon, 20 Feb 2023 17:27:39 GMT',\n",
       "   'location': '/johndauphine-delete-me',\n",
       "   'server': 'AmazonS3',\n",
       "   'content-length': '0'},\n",
       "  'RetryAttempts': 0},\n",
       " 'Location': '/johndauphine-delete-me'}"
      ]
     },
     "execution_count": 3,
     "metadata": {},
     "output_type": "execute_result"
    }
   ],
   "source": [
    "s3_client.create_bucket(Bucket='johndauphine-delete-me')"
   ]
  },
  {
   "cell_type": "code",
   "execution_count": null,
   "metadata": {},
   "outputs": [],
   "source": []
  }
 ],
 "metadata": {
  "kernelspec": {
   "display_name": "Python 3",
   "language": "python",
   "name": "python3"
  },
  "language_info": {
   "codemirror_mode": {
    "name": "ipython",
    "version": 3
   },
   "file_extension": ".py",
   "mimetype": "text/x-python",
   "name": "python",
   "nbconvert_exporter": "python",
   "pygments_lexer": "ipython3",
   "version": "3.10.6"
  },
  "orig_nbformat": 4,
  "vscode": {
   "interpreter": {
    "hash": "916dbcbb3f70747c44a77c7bcd40155683ae19c65e1c03b4aa3499c5328201f1"
   }
  }
 },
 "nbformat": 4,
 "nbformat_minor": 2
}
