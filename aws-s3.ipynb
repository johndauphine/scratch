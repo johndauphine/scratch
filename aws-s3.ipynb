{
 "cells": [
  {
   "cell_type": "code",
   "execution_count": 1,
   "metadata": {},
   "outputs": [
    {
     "name": "stdout",
     "output_type": "stream",
     "text": [
      "cf-templates-1rq3mfmyrlilv-us-east-1\n",
      "dms-mb5vudam2lmt4qaq5qrwrgkeqguavq2qfbaa4wi\n",
      "johndauphine-training\n"
     ]
    }
   ],
   "source": [
    "import boto3\n",
    "\n",
    "s3_client = boto3.client('s3')\n",
    "s3_buckets=s3_client.list_buckets()\n",
    "for bucket in s3_buckets['Buckets']:\n",
    "    print(bucket['Name'])"
   ]
  },
  {
   "cell_type": "code",
   "execution_count": 2,
   "metadata": {},
   "outputs": [
    {
     "data": {
      "text/plain": [
       "{'ResponseMetadata': {'RequestId': 'MX49KSY330MX6476',\n",
       "  'HostId': 'lH25AbbG5yJ7iQK8aQ/VY96m14OIVjnogmA7dBB/kjCxB9pZrZbBQxlm6SVSqgEcmdjf48apP5c=',\n",
       "  'HTTPStatusCode': 200,\n",
       "  'HTTPHeaders': {'x-amz-id-2': 'lH25AbbG5yJ7iQK8aQ/VY96m14OIVjnogmA7dBB/kjCxB9pZrZbBQxlm6SVSqgEcmdjf48apP5c=',\n",
       "   'x-amz-request-id': 'MX49KSY330MX6476',\n",
       "   'date': 'Sat, 11 Mar 2023 20:30:56 GMT',\n",
       "   'location': '/johndauphine-delete-me',\n",
       "   'server': 'AmazonS3',\n",
       "   'content-length': '0'},\n",
       "  'RetryAttempts': 0},\n",
       " 'Location': '/johndauphine-delete-me'}"
      ]
     },
     "execution_count": 2,
     "metadata": {},
     "output_type": "execute_result"
    }
   ],
   "source": [
    "s3_client.create_bucket(Bucket='johndauphine-delete-me')"
   ]
  },
  {
   "cell_type": "code",
   "execution_count": 3,
   "metadata": {},
   "outputs": [
    {
     "data": {
      "text/plain": [
       "{'ResponseMetadata': {'RequestId': '7BD8835T5W40R35D',\n",
       "  'HostId': 'EENX4d+3SAZe2jFoW/iQC0btpXJT9pVup5mQD8LKJV2RW8ddWUl0YKnB3/1yppV9w4ml+O+CR3w=',\n",
       "  'HTTPStatusCode': 204,\n",
       "  'HTTPHeaders': {'x-amz-id-2': 'EENX4d+3SAZe2jFoW/iQC0btpXJT9pVup5mQD8LKJV2RW8ddWUl0YKnB3/1yppV9w4ml+O+CR3w=',\n",
       "   'x-amz-request-id': '7BD8835T5W40R35D',\n",
       "   'date': 'Sat, 11 Mar 2023 20:31:09 GMT',\n",
       "   'server': 'AmazonS3'},\n",
       "  'RetryAttempts': 0}}"
      ]
     },
     "execution_count": 3,
     "metadata": {},
     "output_type": "execute_result"
    }
   ],
   "source": [
    "s3_client.delete_bucket(Bucket='johndauphine-delete-me')"
   ]
  },
  {
   "cell_type": "code",
   "execution_count": null,
   "metadata": {},
   "outputs": [],
   "source": []
  }
 ],
 "metadata": {
  "kernelspec": {
   "display_name": "Python 3",
   "language": "python",
   "name": "python3"
  },
  "language_info": {
   "codemirror_mode": {
    "name": "ipython",
    "version": 3
   },
   "file_extension": ".py",
   "mimetype": "text/x-python",
   "name": "python",
   "nbconvert_exporter": "python",
   "pygments_lexer": "ipython3",
   "version": "3.10.6"
  },
  "orig_nbformat": 4,
  "vscode": {
   "interpreter": {
    "hash": "916dbcbb3f70747c44a77c7bcd40155683ae19c65e1c03b4aa3499c5328201f1"
   }
  }
 },
 "nbformat": 4,
 "nbformat_minor": 2
}
