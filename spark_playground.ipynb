{
 "cells": [
  {
   "cell_type": "code",
   "execution_count": 11,
   "metadata": {},
   "outputs": [],
   "source": [
    "import findspark\n",
    "findspark.init()\n",
    "\n",
    "from pyspark.sql import SparkSession\n",
    "\n",
    "# Step 1: Initialize a SparkSession\n",
    "spark = SparkSession.builder.master(\"local[*]\") \\\n",
    "    .appName(\"LocalRowCountFoo\") \\\n",
    "    .getOrCreate()\n",
    "\n",
    "\n",
    "# # Step 2: Create an RDD with the \"Hello World\" message\n",
    "# data = [\"Hello\", \"World\"]\n",
    "# rdd = spark.sparkContext.parallelize(data)\n",
    "\n",
    "# # Step 3: Perform an action to collect and print the data\n",
    "# result = rdd.collect()\n",
    "# print(\" \".join(result))\n",
    "\n",
    "# # Step 4: Stop the Spark session\n",
    "# spark.stop()\n"
   ]
  },
  {
   "cell_type": "code",
   "execution_count": 12,
   "metadata": {},
   "outputs": [
    {
     "name": "stderr",
     "output_type": "stream",
     "text": [
      "                                                                                \r"
     ]
    }
   ],
   "source": [
    "df = spark.read.csv('dummy_data.csv',header=True,inferSchema=True)\n",
    "df.createOrReplaceTempView('dummy')\n"
   ]
  },
  {
   "cell_type": "code",
   "execution_count": 13,
   "metadata": {},
   "outputs": [
    {
     "name": "stderr",
     "output_type": "stream",
     "text": [
      "[Stage 2:======================================================>(224 + 3) / 227]\r"
     ]
    },
    {
     "name": "stdout",
     "output_type": "stream",
     "text": [
      "+-------------+------------------+\n",
      "|      country|          avg(age)|\n",
      "+-------------+------------------+\n",
      "|       Russia| 41.49990168853827|\n",
      "|       Sweden| 41.50131276838474|\n",
      "|  Philippines| 41.50308847425848|\n",
      "|     Malaysia| 41.49317318476697|\n",
      "|    Singapore| 41.49072689846306|\n",
      "|       Turkey| 41.50067734996351|\n",
      "|      Germany| 41.49401252148908|\n",
      "|       France|41.497932253727235|\n",
      "|       Greece|41.495142314681424|\n",
      "|    Argentina| 41.49549282982878|\n",
      "|      Belgium| 41.50171254596984|\n",
      "|      Finland|  41.4929719509031|\n",
      "|         Peru| 41.49286562447161|\n",
      "|        India|41.503586264842774|\n",
      "|        China| 41.50444426738333|\n",
      "|United States| 41.49635318892583|\n",
      "|        Chile|  41.4949631832854|\n",
      "|      Nigeria|41.494648693133236|\n",
      "|        Italy| 41.49517127913326|\n",
      "|       Norway| 41.49896205267452|\n",
      "+-------------+------------------+\n",
      "only showing top 20 rows\n",
      "\n"
     ]
    },
    {
     "name": "stderr",
     "output_type": "stream",
     "text": [
      "                                                                                \r"
     ]
    }
   ],
   "source": [
    "sql_df = spark.sql('select country, avg(age) from dummy group by country')\n",
    "sql_df.show()"
   ]
  },
  {
   "cell_type": "code",
   "execution_count": 14,
   "metadata": {},
   "outputs": [],
   "source": [
    "spark.stop()"
   ]
  },
  {
   "cell_type": "code",
   "execution_count": null,
   "metadata": {},
   "outputs": [],
   "source": []
  }
 ],
 "metadata": {
  "kernelspec": {
   "display_name": "base",
   "language": "python",
   "name": "python3"
  },
  "language_info": {
   "codemirror_mode": {
    "name": "ipython",
    "version": 3
   },
   "file_extension": ".py",
   "mimetype": "text/x-python",
   "name": "python",
   "nbconvert_exporter": "python",
   "pygments_lexer": "ipython3",
   "version": "3.12.2"
  }
 },
 "nbformat": 4,
 "nbformat_minor": 4
}
