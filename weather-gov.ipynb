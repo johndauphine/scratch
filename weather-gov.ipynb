{
 "cells": [
  {
   "cell_type": "code",
   "execution_count": 5,
   "metadata": {},
   "outputs": [
    {
     "name": "stderr",
     "output_type": "stream",
     "text": [
      "                                                                                \r"
     ]
    },
    {
     "name": "stdout",
     "output_type": "stream",
     "text": [
      "+-------------+--------+---------+---------+--------------------------+\n",
      "|city         |latitude|longitude|alerts   |queried_at                |\n",
      "+-------------+--------+---------+---------+--------------------------+\n",
      "|Miami        |25.7617 |-80.1918 |No alerts|2025-05-23 14:53:45.159367|\n",
      "|Los Angeles  |34.0522 |-118.2437|No alerts|2025-05-23 14:53:45.159367|\n",
      "|Ferriday     |31.6291 |-91.5559 |No alerts|2025-05-23 14:53:45.159367|\n",
      "|New Orleans  |29.9511 |-90.0715 |No alerts|2025-05-23 14:53:45.159367|\n",
      "|New York     |40.7128 |-74.006  |No alerts|2025-05-23 14:53:45.159367|\n",
      "|Chicago      |41.8781 |-87.6298 |No alerts|2025-05-23 14:53:45.159367|\n",
      "|Houston      |29.7604 |-95.3698 |No alerts|2025-05-23 14:53:45.159367|\n",
      "|Phoenix      |33.4484 |-112.074 |No alerts|2025-05-23 14:53:45.159367|\n",
      "|Denver       |39.7392 |-104.9903|No alerts|2025-05-23 14:53:45.159367|\n",
      "|Seattle      |47.6062 |-122.3321|No alerts|2025-05-23 14:53:45.159367|\n",
      "|Washington   |38.9072 |-77.0369 |No alerts|2025-05-23 14:53:45.159367|\n",
      "|Boston       |42.3601 |-71.0589 |No alerts|2025-05-23 14:53:45.159367|\n",
      "|Dallas       |32.7767 |-96.797  |No alerts|2025-05-23 14:53:45.159367|\n",
      "|San Francisco|37.7749 |-122.4194|No alerts|2025-05-23 14:53:45.159367|\n",
      "|Nashville    |36.1627 |-86.7816 |No alerts|2025-05-23 14:53:45.159367|\n",
      "|Philadelphia |39.9526 |-75.1652 |No alerts|2025-05-23 14:53:45.159367|\n",
      "|Charlotte    |35.2271 |-80.8431 |No alerts|2025-05-23 14:53:45.159367|\n",
      "|Minneapolis  |44.9778 |-93.265  |No alerts|2025-05-23 14:53:45.159367|\n",
      "|Portland     |45.5051 |-122.675 |No alerts|2025-05-23 14:53:45.159367|\n",
      "|Indianapolis |39.7684 |-86.1581 |No alerts|2025-05-23 14:53:45.159367|\n",
      "+-------------+--------+---------+---------+--------------------------+\n",
      "only showing top 20 rows\n",
      "\n"
     ]
    }
   ],
   "source": [
    "from pyspark.sql import SparkSession\n",
    "from pyspark.sql.functions import udf, col, current_timestamp\n",
    "from pyspark.sql.types import StringType\n",
    "import urllib.request\n",
    "import json\n",
    "import time\n",
    "\n",
    "# Initialize SparkSession\n",
    "spark = SparkSession.builder \\\n",
    "    .appName(\"WeatherAlerts\") \\\n",
    "    .getOrCreate()\n",
    "\n",
    "# Function to fetch weather alerts using Weather.gov API\n",
    "def fetch_weather_alerts(lat, lon):\n",
    "    try:\n",
    "        url = f\"https://api.weather.gov/alerts/active?point={lat},{lon}\"\n",
    "        headers = {\"User-Agent\": \"MyWeatherApp (johndauphine@hotmail.com)\"}\n",
    "        \n",
    "        req = urllib.request.Request(url, headers=headers)\n",
    "        with urllib.request.urlopen(req, timeout=10) as response:\n",
    "            if response.status == 200:\n",
    "                data = json.loads(response.read().decode('utf-8'))\n",
    "                alerts = data.get('features', [])\n",
    "                if not alerts:\n",
    "                    return \"No alerts\"\n",
    "                # Include both headline and sent date in the output\n",
    "                return \"; \".join([\n",
    "                    f\"{alert.get('properties', {}).get('headline', 'No headline')} (sent: {alert.get('properties', {}).get('sent', 'N/A')})\"\n",
    "                    for alert in alerts\n",
    "                ])\n",
    "            else:\n",
    "                return f\"Error: HTTP {response.status}\"\n",
    "    except urllib.error.HTTPError as e:\n",
    "        return f\"HTTPError: {e.code} {e.reason}\"\n",
    "    except urllib.error.URLError as e:\n",
    "        return f\"URLError: {e.reason}\"\n",
    "    except Exception as e:\n",
    "        return f\"Exception: {str(e)}\"\n",
    "\n",
    "# Register the function as a UDF\n",
    "fetch_weather_alerts_udf = udf(fetch_weather_alerts, StringType())\n",
    "\n",
    "# Example DataFrame with latitude and longitude\n",
    "\n",
    "\n",
    "\n",
    "\n",
    "df = spark.read.option(\"header\", \"true\").option(\"inferSchema\", \"true\").csv(\"city-data.csv\")\n",
    "\n",
    "# Add a column with weather alerts (headline and sent date)\n",
    "df_with_alerts = df.withColumn(\"alerts\", fetch_weather_alerts_udf(col(\"latitude\"), col(\"longitude\")))\n",
    "\n",
    "# Add a column with the current datetime\n",
    "df_with_alerts = df_with_alerts.withColumn(\"queried_at\", current_timestamp())\n",
    "\n",
    "# Show results\n",
    "df_with_alerts.show(truncate=False)\n",
    "\n",
    "# Stop SparkSession\n",
    "spark.stop()"
   ]
  },
  {
   "cell_type": "code",
   "execution_count": null,
   "metadata": {},
   "outputs": [],
   "source": []
  }
 ],
 "metadata": {
  "kernelspec": {
   "display_name": "base",
   "language": "python",
   "name": "python3"
  },
  "language_info": {
   "codemirror_mode": {
    "name": "ipython",
    "version": 3
   },
   "file_extension": ".py",
   "mimetype": "text/x-python",
   "name": "python",
   "nbconvert_exporter": "python",
   "pygments_lexer": "ipython3",
   "version": "3.12.2"
  }
 },
 "nbformat": 4,
 "nbformat_minor": 2
}
