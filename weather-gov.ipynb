{
 "cells": [
  {
   "cell_type": "code",
   "execution_count": null,
   "metadata": {},
   "outputs": [],
   "source": [
    "import json\n",
    "\n",
    "with open('weather-gov.json', 'r') as file:\n",
    "    data = json.load(file)\n",
    "\n"
   ]
  },
  {
   "cell_type": "code",
   "execution_count": null,
   "metadata": {},
   "outputs": [],
   "source": [
    "print(data['features'][0]['properties']['sent'])\n",
    "print(data['features'][0]['properties']['effective'])\n",
    "print(data['features'][0]['properties']['onset'])\n",
    "print(data['features'][0]['properties']['expires'])\n",
    "print(data['features'][0]['properties']['messageType'])\n",
    "print(data['features'][0]['properties']['severity'])\n",
    "print(data['features'][0]['properties']['urgency'])\n",
    "print(data['features'][0]['properties']['event'])\n",
    "print(data['features'][0]['properties']['sender'])\n",
    "print(data['features'][0]['properties']['senderName'])\n",
    "print(data['features'][0]['properties']['headline'])\n",
    "print(data['features'][0]['properties']['description'])\n",
    "print(data['features'][0]['properties']['instruction'])\n",
    "print(data['features'][0]['properties']['response'])"
   ]
  },
  {
   "cell_type": "code",
   "execution_count": null,
   "metadata": {},
   "outputs": [],
   "source": [
    "from pyspark.sql import SparkSession\n",
    "from pyspark.sql.functions import udf, col\n",
    "from pyspark.sql.types import StringType\n",
    "import requests\n",
    "\n",
    "# Initialize SparkSession\n",
    "spark = SparkSession.builder \\\n",
    "    .appName(\"WeatherAlerts\") \\\n",
    "    .getOrCreate()\n",
    "\n",
    "# Function to fetch weather alerts using Weather.gov API\n",
    "def fetch_weather_alerts(lat, lon):\n",
    "    try:\n",
    "        url = f\"https://api.weather.gov/alerts/active?point={lat},{lon}\"\n",
    "        headers = {\"User-Agent\": \"MyWeatherApp (your-email@example.com)\"}\n",
    "        response = requests.get(url, headers=headers)\n",
    "        if response.status_code == 200:\n",
    "            data = response.json()\n",
    "            alerts = data.get('features', [])\n",
    "            return \"; \".join([alert['properties']['headline'] for alert in alerts])\n",
    "        else:\n",
    "            return f\"Error: {response.status_code}\"\n",
    "    except Exception as e:\n",
    "        return str(e)\n",
    "\n",
    "# Register the function as a UDF\n",
    "fetch_weather_alerts_udf = udf(fetch_weather_alerts, StringType())\n",
    "\n",
    "# Example DataFrame with latitude and longitude\n",
    "data = [\n",
    "    {\"latitude\": 25.7617, \"longitude\": -80.1918},  # Miami, FL\n",
    "    {\"latitude\": 34.0522, \"longitude\": -118.2437},  # Los Angeles, CA\n",
    "    {\"latitude\": 31.6302, \"longitude\": -91.5551},  # Ferriday, LA\n",
    "]\n",
    "df = spark.createDataFrame(data)\n",
    "\n",
    "# Add a column with weather alerts\n",
    "df_with_alerts = df.withColumn(\"alerts\", fetch_weather_alerts_udf(col(\"latitude\"), col(\"longitude\")))\n",
    "\n",
    "# Show results\n",
    "df_with_alerts.show(truncate=False)\n",
    "\n",
    "# Stop SparkSession\n",
    "spark.stop()\n"
   ]
  }
 ],
 "metadata": {
  "kernelspec": {
   "display_name": "base",
   "language": "python",
   "name": "python3"
  },
  "language_info": {
   "codemirror_mode": {
    "name": "ipython",
    "version": 3
   },
   "file_extension": ".py",
   "mimetype": "text/x-python",
   "name": "python",
   "nbconvert_exporter": "python",
   "pygments_lexer": "ipython3",
   "version": "3.12.7"
  }
 },
 "nbformat": 4,
 "nbformat_minor": 2
}
