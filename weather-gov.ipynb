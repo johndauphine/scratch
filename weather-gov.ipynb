{
 "cells": [
  {
   "cell_type": "code",
   "execution_count": 2,
   "metadata": {},
   "outputs": [],
   "source": [
    "import json\n",
    "\n",
    "with open('weather-gov.json', 'r') as file:\n",
    "    data = json.load(file)\n",
    "\n"
   ]
  },
  {
   "cell_type": "code",
   "execution_count": 3,
   "metadata": {},
   "outputs": [
    {
     "name": "stdout",
     "output_type": "stream",
     "text": [
      "2024-11-04T09:55:00-06:00\n",
      "2024-11-04T09:55:00-06:00\n",
      "2024-11-04T09:55:00-06:00\n",
      "2024-11-04T18:00:00-06:00\n",
      "Alert\n",
      "Moderate\n",
      "Expected\n",
      "Wind Advisory\n",
      "w-nws.webmaster@noaa.gov\n",
      "NWS Houston/Galveston TX\n",
      "Wind Advisory issued November 4 at 9:55AM CST until November 4 at 6:00PM CST by NWS Houston/Galveston TX\n",
      "* WHAT...South winds 15 to 25 mph with gusts up to 35 mph.\n",
      "\n",
      "* WHERE...Portions of south central and southeast Texas.\n",
      "\n",
      "* WHEN...Until 6 PM CST this evening.\n",
      "\n",
      "* IMPACTS...Gusty winds will blow around unsecured objects. Tree\n",
      "limbs could be blown down and a few power outages may result.\n",
      "Winds this strong can make driving difficult, especially for high\n",
      "profile vehicles. Use extra caution.\n",
      "Execute\n"
     ]
    }
   ],
   "source": [
    "print(data['features'][0]['properties']['sent'])\n",
    "print(data['features'][0]['properties']['effective'])\n",
    "print(data['features'][0]['properties']['onset'])\n",
    "print(data['features'][0]['properties']['expires'])\n",
    "print(data['features'][0]['properties']['messageType'])\n",
    "print(data['features'][0]['properties']['severity'])\n",
    "print(data['features'][0]['properties']['urgency'])\n",
    "print(data['features'][0]['properties']['event'])\n",
    "print(data['features'][0]['properties']['sender'])\n",
    "print(data['features'][0]['properties']['senderName'])\n",
    "print(data['features'][0]['properties']['headline'])\n",
    "print(data['features'][0]['properties']['description'])\n",
    "print(data['features'][0]['properties']['instruction'])\n",
    "print(data['features'][0]['properties']['response'])"
   ]
  },
  {
   "cell_type": "code",
   "execution_count": 1,
   "metadata": {},
   "outputs": [
    {
     "name": "stderr",
     "output_type": "stream",
     "text": [
      "your 131072x1 screen size is bogus. expect trouble\n",
      "24/11/28 19:45:03 WARN Utils: Your hostname, LAPTOP-I1NR4E03 resolves to a loopback address: 127.0.1.1; using 10.255.255.254 instead (on interface lo)\n",
      "24/11/28 19:45:03 WARN Utils: Set SPARK_LOCAL_IP if you need to bind to another address\n",
      "Setting default log level to \"WARN\".\n",
      "To adjust logging level use sc.setLogLevel(newLevel). For SparkR, use setLogLevel(newLevel).\n",
      "24/11/28 19:45:07 WARN NativeCodeLoader: Unable to load native-hadoop library for your platform... using builtin-java classes where applicable\n",
      "                                                                                \r"
     ]
    },
    {
     "name": "stdout",
     "output_type": "stream",
     "text": [
      "+--------+---------+------+\n",
      "|latitude|longitude|alerts|\n",
      "+--------+---------+------+\n",
      "|25.7617 |-80.1918 |      |\n",
      "|34.0522 |-118.2437|      |\n",
      "+--------+---------+------+\n",
      "\n"
     ]
    }
   ],
   "source": [
    "from pyspark.sql import SparkSession\n",
    "from pyspark.sql.functions import udf, col\n",
    "from pyspark.sql.types import StringType\n",
    "import requests\n",
    "\n",
    "# Initialize SparkSession\n",
    "spark = SparkSession.builder \\\n",
    "    .appName(\"WeatherAlerts\") \\\n",
    "    .getOrCreate()\n",
    "\n",
    "# Function to fetch weather alerts using Weather.gov API\n",
    "def fetch_weather_alerts(lat, lon):\n",
    "    try:\n",
    "        url = f\"https://api.weather.gov/alerts/active?point={lat},{lon}\"\n",
    "        headers = {\"User-Agent\": \"MyWeatherApp (your-email@example.com)\"}\n",
    "        response = requests.get(url, headers=headers)\n",
    "        if response.status_code == 200:\n",
    "            data = response.json()\n",
    "            alerts = data.get('features', [])\n",
    "            return \"; \".join([alert['properties']['headline'] for alert in alerts])\n",
    "        else:\n",
    "            return f\"Error: {response.status_code}\"\n",
    "    except Exception as e:\n",
    "        return str(e)\n",
    "\n",
    "# Register the function as a UDF\n",
    "fetch_weather_alerts_udf = udf(fetch_weather_alerts, StringType())\n",
    "\n",
    "# Example DataFrame with latitude and longitude\n",
    "data = [\n",
    "    {\"latitude\": 25.7617, \"longitude\": -80.1918},  # Miami, FL\n",
    "    {\"latitude\": 34.0522, \"longitude\": -118.2437},  # Los Angeles, CA\n",
    "]\n",
    "df = spark.createDataFrame(data)\n",
    "\n",
    "# Add a column with weather alerts\n",
    "df_with_alerts = df.withColumn(\"alerts\", fetch_weather_alerts_udf(col(\"latitude\"), col(\"longitude\")))\n",
    "\n",
    "# Show results\n",
    "df_with_alerts.show(truncate=False)\n",
    "\n",
    "# Stop SparkSession\n",
    "spark.stop()\n"
   ]
  }
 ],
 "metadata": {
  "kernelspec": {
   "display_name": "base",
   "language": "python",
   "name": "python3"
  },
  "language_info": {
   "codemirror_mode": {
    "name": "ipython",
    "version": 3
   },
   "file_extension": ".py",
   "mimetype": "text/x-python",
   "name": "python",
   "nbconvert_exporter": "python",
   "pygments_lexer": "ipython3",
   "version": "3.12.7"
  }
 },
 "nbformat": 4,
 "nbformat_minor": 2
}
