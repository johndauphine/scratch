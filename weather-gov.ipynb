{
 "cells": [
  {
   "cell_type": "code",
   "execution_count": 2,
   "metadata": {},
   "outputs": [],
   "source": [
    "import json\n",
    "\n",
    "with open('weather-gov.json', 'r') as file:\n",
    "    data = json.load(file)\n",
    "\n"
   ]
  },
  {
   "cell_type": "code",
   "execution_count": 3,
   "metadata": {},
   "outputs": [
    {
     "name": "stdout",
     "output_type": "stream",
     "text": [
      "2024-11-04T09:55:00-06:00\n",
      "2024-11-04T09:55:00-06:00\n",
      "2024-11-04T09:55:00-06:00\n",
      "2024-11-04T18:00:00-06:00\n",
      "Alert\n",
      "Moderate\n",
      "Expected\n",
      "Wind Advisory\n",
      "w-nws.webmaster@noaa.gov\n",
      "NWS Houston/Galveston TX\n",
      "Wind Advisory issued November 4 at 9:55AM CST until November 4 at 6:00PM CST by NWS Houston/Galveston TX\n",
      "* WHAT...South winds 15 to 25 mph with gusts up to 35 mph.\n",
      "\n",
      "* WHERE...Portions of south central and southeast Texas.\n",
      "\n",
      "* WHEN...Until 6 PM CST this evening.\n",
      "\n",
      "* IMPACTS...Gusty winds will blow around unsecured objects. Tree\n",
      "limbs could be blown down and a few power outages may result.\n",
      "Winds this strong can make driving difficult, especially for high\n",
      "profile vehicles. Use extra caution.\n",
      "Execute\n"
     ]
    }
   ],
   "source": [
    "print(data['features'][0]['properties']['sent'])\n",
    "print(data['features'][0]['properties']['effective'])\n",
    "print(data['features'][0]['properties']['onset'])\n",
    "print(data['features'][0]['properties']['expires'])\n",
    "print(data['features'][0]['properties']['messageType'])\n",
    "print(data['features'][0]['properties']['severity'])\n",
    "print(data['features'][0]['properties']['urgency'])\n",
    "print(data['features'][0]['properties']['event'])\n",
    "print(data['features'][0]['properties']['sender'])\n",
    "print(data['features'][0]['properties']['senderName'])\n",
    "print(data['features'][0]['properties']['headline'])\n",
    "print(data['features'][0]['properties']['description'])\n",
    "print(data['features'][0]['properties']['instruction'])\n",
    "print(data['features'][0]['properties']['response'])"
   ]
  },
  {
   "cell_type": "code",
   "execution_count": null,
   "metadata": {},
   "outputs": [],
   "source": []
  }
 ],
 "metadata": {
  "kernelspec": {
   "display_name": "Python 3",
   "language": "python",
   "name": "python3"
  },
  "language_info": {
   "codemirror_mode": {
    "name": "ipython",
    "version": 3
   },
   "file_extension": ".py",
   "mimetype": "text/x-python",
   "name": "python",
   "nbconvert_exporter": "python",
   "pygments_lexer": "ipython3",
   "version": "3.12.3"
  }
 },
 "nbformat": 4,
 "nbformat_minor": 2
}
